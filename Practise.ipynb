{
  "nbformat": 4,
  "nbformat_minor": 0,
  "metadata": {
    "colab": {
      "provenance": []
    },
    "kernelspec": {
      "name": "python3",
      "display_name": "Python 3"
    },
    "language_info": {
      "name": "python"
    }
  },
  "cells": [
    {
      "cell_type": "code",
      "source": [
        "print(\"let value of x=\")\n",
        "x=12\n",
        "print(x)\n",
        "print(\"let value of y=\")\n",
        "y=5\n",
        "print(y)\n",
        "print(\"Addition=\")\n",
        "print(x+y)\n",
        "print(\"Sutraction=\")\n",
        "print(x-y)\n",
        "print(\"Multiplication=\")\n",
        "print(x*y)\n",
        "print(\"Division=\")\n",
        "print(x/y)\n",
        "print(\"Modulus=\")\n",
        "print(x%y)"
      ],
      "metadata": {
        "id": "OtZXllYUOhVb",
        "colab": {
          "base_uri": "https://localhost:8080/"
        },
        "outputId": "a94980c1-ea99-4a1a-fe81-970aca24766b",
        "collapsed": true
      },
      "execution_count": null,
      "outputs": [
        {
          "output_type": "stream",
          "name": "stdout",
          "text": [
            "let value of x=\n",
            "12\n",
            "let value of y=\n",
            "5\n",
            "Addition=\n",
            "17\n",
            "Sutraction=\n",
            "7\n",
            "Multiplication=\n",
            "60\n",
            "Division=\n",
            "2.4\n",
            "Modules=\n",
            "2\n"
          ]
        }
      ]
    },
    {
      "cell_type": "code",
      "execution_count": null,
      "metadata": {
        "colab": {
          "base_uri": "https://localhost:8080/"
        },
        "id": "s1hSrdCwOc54",
        "outputId": "b199f5b7-133d-4f50-e375-f76374aa11bb",
        "collapsed": true
      },
      "outputs": [
        {
          "output_type": "stream",
          "name": "stdout",
          "text": [
            "Add= 140\n",
            "Subtract= 60\n",
            "Product= 4000\n",
            "Division= 2.5\n",
            "Modules= 20\n"
          ]
        }
      ],
      "source": [
        "x=100\n",
        "y=40\n",
        "print(\"Add=\", x+y)\n",
        "print(\"Subtract=\", x-y)\n",
        "print(\"Product=\", x*y)\n",
        "print(\"Division=\", x/y)\n",
        "print(\"Modules=\", x%y)"
      ]
    },
    {
      "cell_type": "code",
      "source": [
        "# Write a code for finding whether user is eligible for CNIC or Driving License.\n",
        "# name=str(input(\"Name:\"))\n",
        "x=int(input(\"Enter Your Age:\"))\n",
        "if x>=18:\n",
        "  print(\"You are eligible\")\n",
        "else:\n",
        " print(\"You are not eligible\")"
      ],
      "metadata": {
        "id": "kE9WxZWyilRH",
        "colab": {
          "base_uri": "https://localhost:8080/"
        },
        "collapsed": true,
        "outputId": "360b1c35-0b2a-478b-edfd-108cc8fe220e"
      },
      "execution_count": null,
      "outputs": [
        {
          "output_type": "stream",
          "name": "stdout",
          "text": [
            "Enter Your Age:24\n",
            "You are eligible\n"
          ]
        }
      ]
    },
    {
      "cell_type": "code",
      "source": [
        "# Write a python program by using function that takes student name as input and calculate their grades based on the marks\n",
        "\n",
        "\n",
        "def grading():\n",
        "  a = input(\"Enter your full name: \")\n",
        "  b = int(input(\"Enter your marks: \"))\n",
        "  if b>=80 and b<=100:\n",
        "    print(\"You got an A\")\n",
        "  elif b>=70 and b<=79:\n",
        "    print(\"You got B grade\")\n",
        "  elif b>=60 and b<=69:\n",
        "    print(\"You got C grade\")\n",
        "  elif b>=50 and b<=59:\n",
        "    print(\"You got D grade\")\n",
        "  elif b<50:\n",
        "    print(\"You got F grade\")\n",
        "  else:\n",
        "    print(\"Invalid!!!\")\n",
        "\n",
        "grading()\n"
      ],
      "metadata": {
        "id": "bOPwjuhVsf8I",
        "colab": {
          "base_uri": "https://localhost:8080/"
        },
        "outputId": "37453fb1-b898-4f88-ea3e-7dcf38fe902d"
      },
      "execution_count": null,
      "outputs": [
        {
          "output_type": "stream",
          "name": "stdout",
          "text": [
            "Enter your full name: sajeel\n",
            "Enter your marks: 32\n",
            "You got F grade\n"
          ]
        }
      ]
    },
    {
      "cell_type": "code",
      "source": [
        "# Write a function that calculate area of circle.\n",
        "def area():\n",
        "    r = int(input(\" Enter the radius: \"))\n",
        "    pi = 3.14\n",
        "    area_ofcircle = pi*(r**2)\n",
        "    print(area_ofcircle)\n",
        "area()"
      ],
      "metadata": {
        "colab": {
          "base_uri": "https://localhost:8080/"
        },
        "id": "yvNd2RFtwpUK",
        "outputId": "825b4312-0ec3-4964-9d45-7de2e3125055"
      },
      "execution_count": null,
      "outputs": [
        {
          "output_type": "stream",
          "name": "stdout",
          "text": [
            " Enter the radius: 3\n",
            "28.26\n"
          ]
        }
      ]
    },
    {
      "cell_type": "code",
      "source": [
        "# Write a function that swap two variables values.\n",
        "def swap():\n",
        "    a=int(input(\"Enter value of a: \"))\n",
        "    b=int(input(\"Enter value of b: \"))\n",
        "    c=a\n",
        "    a=b\n",
        "    b=c\n",
        "    print(\"value of a after swapping: \", a, \"\\nvalue of b after swapping: \", b)\n",
        "swap()"
      ],
      "metadata": {
        "colab": {
          "base_uri": "https://localhost:8080/"
        },
        "id": "40poseeEwqnp",
        "outputId": "415a55f4-7f33-4685-d6c6-d74404346d09"
      },
      "execution_count": null,
      "outputs": [
        {
          "output_type": "stream",
          "name": "stdout",
          "text": [
            "Enter value of a: 23\n",
            "Enter value of b: 44\n",
            "value of a after swapping:  44 \n",
            "value of b after swapping:  23\n"
          ]
        }
      ]
    },
    {
      "cell_type": "code",
      "source": [
        "# Write a function that convert temperature in Celsius to Fahrenheit.\n",
        "def temp():\n",
        "    c= int(input(\"Write the temperature in Celsius: \"))\n",
        "    F= (9/5)*c+32\n",
        "    print(\"Temperature in Fahrenheit is: \",F)\n",
        "temp()"
      ],
      "metadata": {
        "colab": {
          "base_uri": "https://localhost:8080/"
        },
        "id": "bkWxyEoewthB",
        "outputId": "264bfacb-9d83-4ed3-d534-786cfab8ddd3"
      },
      "execution_count": null,
      "outputs": [
        {
          "output_type": "stream",
          "name": "stdout",
          "text": [
            "Write the temperature in Celsius: 25\n",
            "Temperature in Fahrenheit is:  77.0\n"
          ]
        }
      ]
    },
    {
      "cell_type": "code",
      "source": [
        "# Write a program that check input character is vowel or consonant.\n",
        "ch=input(\"Enter a character to check: \")\n",
        "if ch==\"a\"or ch==\"e\"or ch==\"i\"or ch==\"o\"or ch==\"u\":\n",
        "    print(ch, \"is a vowel\")\n",
        "elif ch==\"A\"or ch==\"E\"or ch==\"I\"or ch==\"O\"or ch==\"U\":\n",
        "    print(ch, \" is a VOWEL\")\n",
        "elif ch==\"b\"or ch==\"c\"or ch==\"d\"or ch==\"f\"or ch==\"g\"or ch==\"h\"or ch==\"p\"or ch==\"j\"or ch==\"k\"or ch==\"l\"or ch==\"m\"or ch==\"n\"or ch==\"q\"or ch==\"r\"or ch==\"s\"or ch==\"t\"or ch==\"v\"or ch==\"w\"or ch==\"x\"or ch==\"y\"or ch==\"z\":\n",
        "    print(ch, \" is a consonant\")\n",
        "elif ch==\"B\"or ch==\"C\"or ch==\"D\"or ch==\"F\"or ch==\"G\"or ch==\"H\"or ch==\"P\"or ch==\"J\"or ch==\"K\"or ch==\"L\"or ch==\"M\"or ch==\"N\"or ch==\"Q\"or ch==\"R\"or ch==\"S\"or ch==\"T\"or ch==\"V\"or ch==\"W\"or ch==\"X\"or ch==\"Y\"or ch==\"Z\":\n",
        "    print(ch, \" is a CONSONANT\")\n",
        "else:\n",
        "    print(\"Invalid entry!!!\")"
      ],
      "metadata": {
        "colab": {
          "base_uri": "https://localhost:8080/"
        },
        "id": "kiEyCmdpwwAn",
        "outputId": "8e3ce707-3603-435d-8dca-9562c3006eb5"
      },
      "execution_count": null,
      "outputs": [
        {
          "output_type": "stream",
          "name": "stdout",
          "text": [
            "Enter a character to check: Q\n",
            "Q  is a CONSONANT\n"
          ]
        }
      ]
    },
    {
      "cell_type": "code",
      "source": [
        "ch=input(\"Enter a character to check: \")\n",
        "if ch==\"a\"or ch==\"e\"or ch==\"i\"or ch==\"o\"or ch==\"u\" or ch==\"A\"or ch==\"E\"or ch==\"I\"or ch==\"O\"or ch==\"U\":\n",
        "    print(ch, \"is a vowel\")\n",
        "else:\n",
        "    print(ch, \"is a consonant.\")"
      ],
      "metadata": {
        "colab": {
          "base_uri": "https://localhost:8080/"
        },
        "id": "BSiRrIO9-DG0",
        "outputId": "23658763-799b-4799-9692-8428634cf1bf"
      },
      "execution_count": null,
      "outputs": [
        {
          "output_type": "stream",
          "name": "stdout",
          "text": [
            "Enter a character to check: o\n",
            "o is a vowel\n"
          ]
        }
      ]
    },
    {
      "cell_type": "code",
      "source": [
        "# Write a function that swap two variables values without using third variable.\n",
        "def swapping ():\n",
        "  a =int(input(\"Enter first value: \"))\n",
        "  b= int(input(\"Enter second value: \"))\n",
        "  a = a+b-a\n",
        "  b = b+a-b\n",
        "  print(a,b)\n",
        "swapping()"
      ],
      "metadata": {
        "colab": {
          "base_uri": "https://localhost:8080/"
        },
        "id": "93nU-UfIXSOK",
        "outputId": "9ab5895e-6ead-44a4-c65c-ab22c29dba55"
      },
      "execution_count": 5,
      "outputs": [
        {
          "output_type": "stream",
          "name": "stdout",
          "text": [
            "Enter first value: 12\n",
            "Enter second value: 15\n",
            "15 15\n"
          ]
        }
      ]
    },
    {
      "cell_type": "code",
      "source": [
        "a = float(input(\"Enter the desired quantity in Litres: \"))\n",
        "b = 255.63\n",
        "print(\"Price is: \",b)\n",
        "print(\"Total amount is: \")\n",
        "print(a*b)"
      ],
      "metadata": {
        "colab": {
          "base_uri": "https://localhost:8080/"
        },
        "id": "ynsFPT2tw64y",
        "outputId": "a0d4d77b-babf-44ea-baf1-121894e69813"
      },
      "execution_count": 7,
      "outputs": [
        {
          "output_type": "stream",
          "name": "stdout",
          "text": [
            "Enter the desired quantity in Litres: 10\n",
            "Price is:  255.63\n",
            "Total amount is: \n",
            "2556.3\n"
          ]
        }
      ]
    },
    {
      "cell_type": "code",
      "source": [
        "# Assessment:  x = [1,2,3,3,3,4,5,5] Extract any three middle values, extract all value except first and last.\n",
        "#                 extract every third value, reverse first half values?\n",
        "\n",
        "x = [1,2,3,3,3,4,5,5]\n",
        "print(\"Any three middle values: \")\n",
        "print(x[2:5])\n",
        "print(\"all value except first and last: \")\n",
        "print(x[1:-1])\n",
        "print(\"Every third value: \")\n",
        "print(x[0:-1:3])\n"
      ],
      "metadata": {
        "colab": {
          "base_uri": "https://localhost:8080/"
        },
        "id": "QUgIupNjx9yX",
        "outputId": "977277d1-550b-4e1f-a9fc-ea27a50e7bc3"
      },
      "execution_count": 21,
      "outputs": [
        {
          "output_type": "stream",
          "name": "stdout",
          "text": [
            "Any three middle values: \n",
            "[3, 3, 3]\n",
            "all value except first and last: \n",
            "[2, 3, 3, 3, 4, 5]\n",
            "Every third value: \n",
            "[1, 3, 5]\n"
          ]
        }
      ]
    },
    {
      "cell_type": "code",
      "source": [
        "x = [1,2,3,3,3,4,5,5]\n",
        "print(\"Reverse of the first half values: \")\n",
        "print(x[-1::1])"
      ],
      "metadata": {
        "colab": {
          "base_uri": "https://localhost:8080/"
        },
        "id": "USqVLWMe08cn",
        "outputId": "f4655177-b6fa-4766-936b-c4272cf2a603"
      },
      "execution_count": 20,
      "outputs": [
        {
          "output_type": "stream",
          "name": "stdout",
          "text": [
            "Reverse of the first half values: \n",
            "[5]\n"
          ]
        }
      ]
    }
  ]
}